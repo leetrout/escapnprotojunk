{
 "metadata": {
  "name": "",
  "signature": "sha256:eb1ebe0991db063850b4166a91860d8dfbd10cb97210e9d9799e775d09a266bd"
 },
 "nbformat": 3,
 "nbformat_minor": 0,
 "worksheets": [
  {
   "cells": [
    {
     "cell_type": "code",
     "collapsed": false,
     "input": [
      "import elasticsearch"
     ],
     "language": "python",
     "metadata": {},
     "outputs": [],
     "prompt_number": 1
    },
    {
     "cell_type": "code",
     "collapsed": false,
     "input": [
      "es = elasticsearch.Elasticsearch(['leetroutwrw2-9200.terminal.com:80'])"
     ],
     "language": "python",
     "metadata": {},
     "outputs": [],
     "prompt_number": 2
    },
    {
     "cell_type": "code",
     "collapsed": false,
     "input": [
      "es.indices.refresh('pizzas')"
     ],
     "language": "python",
     "metadata": {},
     "outputs": [
      {
       "metadata": {},
       "output_type": "pyout",
       "prompt_number": 3,
       "text": [
        "{u'_shards': {u'failed': 0, u'successful': 5, u'total': 10}}"
       ]
      }
     ],
     "prompt_number": 3
    },
    {
     "cell_type": "code",
     "collapsed": false,
     "input": [
      "es.search(index=\"pizzas\", body={\"filter\": {\"match_all\": {}}})"
     ],
     "language": "python",
     "metadata": {},
     "outputs": [
      {
       "metadata": {},
       "output_type": "pyout",
       "prompt_number": 11,
       "text": [
        "{u'_shards': {u'failed': 0, u'successful': 5, u'total': 5},\n",
        " u'hits': {u'hits': [{u'_id': u'Oa-zJuL1Rc-jjWfCPOa6-g',\n",
        "    u'_index': u'pizzas',\n",
        "    u'_score': 1.0,\n",
        "    u'_source': {u'crust': u'pan',\n",
        "     u'sauce': u'red',\n",
        "     u'toppings': [u'cheese', u'pepperoni', u'sausage']},\n",
        "    u'_type': u'pizza'},\n",
        "   {u'_id': u'SKK4IOzuQY-cqqiTo_gEzw',\n",
        "    u'_index': u'pizzas',\n",
        "    u'_score': 1.0,\n",
        "    u'_source': {u'crust': u'thin',\n",
        "     u'sauce': u'red',\n",
        "     u'toppings': [u'cheese', u'pepperoni']},\n",
        "    u'_type': u'pizza'},\n",
        "   {u'_id': u'FY4KLwahTk2Rg0RzgWWaaw',\n",
        "    u'_index': u'pizzas',\n",
        "    u'_score': 1.0,\n",
        "    u'_source': {u'crust': u'pan',\n",
        "     u'sauce': u'white',\n",
        "     u'toppings': [u'cheese']},\n",
        "    u'_type': u'pizza'},\n",
        "   {u'_id': u'ZPsjCDp7Q5q9tluYBoRiDw',\n",
        "    u'_index': u'pizzas',\n",
        "    u'_score': 1.0,\n",
        "    u'_source': {u'crust': u'hand',\n",
        "     u'sauce': u'white',\n",
        "     u'toppings': [u'cheese', u'sausage']},\n",
        "    u'_type': u'pizza'},\n",
        "   {u'_id': u'LI3uqaPIQ_mm5uuPBjdEzw',\n",
        "    u'_index': u'pizzas',\n",
        "    u'_score': 1.0,\n",
        "    u'_source': {u'crust': u'thin',\n",
        "     u'sauce': u'red',\n",
        "     u'toppings': [u'cheese', u'pepperoni', u'mushroom']},\n",
        "    u'_type': u'pizza'}],\n",
        "  u'max_score': 1.0,\n",
        "  u'total': 5},\n",
        " u'timed_out': False,\n",
        " u'took': 2}"
       ]
      }
     ],
     "prompt_number": 11
    },
    {
     "cell_type": "code",
     "collapsed": false,
     "input": [
      "es.search(index=\"pizzas\", body={\"filter\": {\"term\": {\"toppings\":\"pepperoni\"}}})"
     ],
     "language": "python",
     "metadata": {},
     "outputs": [
      {
       "metadata": {},
       "output_type": "pyout",
       "prompt_number": 12,
       "text": [
        "{u'_shards': {u'failed': 0, u'successful': 5, u'total': 5},\n",
        " u'hits': {u'hits': [{u'_id': u'Oa-zJuL1Rc-jjWfCPOa6-g',\n",
        "    u'_index': u'pizzas',\n",
        "    u'_score': 1.0,\n",
        "    u'_source': {u'crust': u'pan',\n",
        "     u'sauce': u'red',\n",
        "     u'toppings': [u'cheese', u'pepperoni', u'sausage']},\n",
        "    u'_type': u'pizza'},\n",
        "   {u'_id': u'SKK4IOzuQY-cqqiTo_gEzw',\n",
        "    u'_index': u'pizzas',\n",
        "    u'_score': 1.0,\n",
        "    u'_source': {u'crust': u'thin',\n",
        "     u'sauce': u'red',\n",
        "     u'toppings': [u'cheese', u'pepperoni']},\n",
        "    u'_type': u'pizza'},\n",
        "   {u'_id': u'LI3uqaPIQ_mm5uuPBjdEzw',\n",
        "    u'_index': u'pizzas',\n",
        "    u'_score': 1.0,\n",
        "    u'_source': {u'crust': u'thin',\n",
        "     u'sauce': u'red',\n",
        "     u'toppings': [u'cheese', u'pepperoni', u'mushroom']},\n",
        "    u'_type': u'pizza'}],\n",
        "  u'max_score': 1.0,\n",
        "  u'total': 3},\n",
        " u'timed_out': False,\n",
        " u'took': 2}"
       ]
      }
     ],
     "prompt_number": 12
    },
    {
     "cell_type": "code",
     "collapsed": false,
     "input": [
      "res = es.index(index=\"pizzas\", doc_type='pizza', id=1, body={'foo': 'bar'})"
     ],
     "language": "python",
     "metadata": {},
     "outputs": [],
     "prompt_number": 13
    },
    {
     "cell_type": "code",
     "collapsed": false,
     "input": [
      "res"
     ],
     "language": "python",
     "metadata": {},
     "outputs": [
      {
       "metadata": {},
       "output_type": "pyout",
       "prompt_number": 14,
       "text": [
        "{u'_id': u'1',\n",
        " u'_index': u'pizzas',\n",
        " u'_type': u'pizza',\n",
        " u'_version': 1,\n",
        " u'created': True}"
       ]
      }
     ],
     "prompt_number": 14
    },
    {
     "cell_type": "code",
     "collapsed": false,
     "input": [
      "res['_id']"
     ],
     "language": "python",
     "metadata": {},
     "outputs": [
      {
       "metadata": {},
       "output_type": "pyout",
       "prompt_number": 15,
       "text": [
        "u'1'"
       ]
      }
     ],
     "prompt_number": 15
    },
    {
     "cell_type": "code",
     "collapsed": false,
     "input": [
      "res = es.index(index=\"pizzas\", doc_type='pizza', id=1, body={'baz': 'bing'})"
     ],
     "language": "python",
     "metadata": {},
     "outputs": [],
     "prompt_number": 16
    },
    {
     "cell_type": "code",
     "collapsed": false,
     "input": [
      "res"
     ],
     "language": "python",
     "metadata": {},
     "outputs": [
      {
       "metadata": {},
       "output_type": "pyout",
       "prompt_number": 17,
       "text": [
        "{u'_id': u'1',\n",
        " u'_index': u'pizzas',\n",
        " u'_type': u'pizza',\n",
        " u'_version': 2,\n",
        " u'created': False}"
       ]
      }
     ],
     "prompt_number": 17
    },
    {
     "cell_type": "code",
     "collapsed": false,
     "input": [
      "es.get(index='pizzas', doc_type='pizza', id=1)"
     ],
     "language": "python",
     "metadata": {},
     "outputs": [
      {
       "metadata": {},
       "output_type": "pyout",
       "prompt_number": 18,
       "text": [
        "{u'_id': u'1',\n",
        " u'_index': u'pizzas',\n",
        " u'_source': {u'baz': u'bing'},\n",
        " u'_type': u'pizza',\n",
        " u'_version': 2,\n",
        " u'found': True}"
       ]
      }
     ],
     "prompt_number": 18
    },
    {
     "cell_type": "code",
     "collapsed": false,
     "input": [
      "res = es.update(index=\"pizzas\", doc_type='pizza', id=1, body={'doc': {'foo': 'bar'}})"
     ],
     "language": "python",
     "metadata": {},
     "outputs": [],
     "prompt_number": 22
    },
    {
     "cell_type": "code",
     "collapsed": false,
     "input": [
      "res"
     ],
     "language": "python",
     "metadata": {},
     "outputs": [
      {
       "metadata": {},
       "output_type": "pyout",
       "prompt_number": 23,
       "text": [
        "{u'_id': u'1', u'_index': u'pizzas', u'_type': u'pizza', u'_version': 3}"
       ]
      }
     ],
     "prompt_number": 23
    },
    {
     "cell_type": "code",
     "collapsed": false,
     "input": [
      "es.get(index='pizzas', doc_type='pizza', id=1)"
     ],
     "language": "python",
     "metadata": {},
     "outputs": [
      {
       "metadata": {},
       "output_type": "pyout",
       "prompt_number": 24,
       "text": [
        "{u'_id': u'1',\n",
        " u'_index': u'pizzas',\n",
        " u'_source': {u'baz': u'bing', u'foo': u'bar'},\n",
        " u'_type': u'pizza',\n",
        " u'_version': 3,\n",
        " u'found': True}"
       ]
      }
     ],
     "prompt_number": 24
    },
    {
     "cell_type": "code",
     "collapsed": false,
     "input": [
      "from functools import partial\n",
      "es_pizzas_get = partial(es.get, index='pizzas', doc_type='pizza')"
     ],
     "language": "python",
     "metadata": {},
     "outputs": [],
     "prompt_number": 27
    },
    {
     "cell_type": "code",
     "collapsed": false,
     "input": [
      "es.get(index='pizzas', doc_type='pizza', id=1)\n",
      "es_pizzas_get(id=1)"
     ],
     "language": "python",
     "metadata": {},
     "outputs": [
      {
       "metadata": {},
       "output_type": "pyout",
       "prompt_number": 29,
       "text": [
        "{u'_id': u'1',\n",
        " u'_index': u'pizzas',\n",
        " u'_source': {u'baz': u'bing', u'foo': u'bar'},\n",
        " u'_type': u'pizza',\n",
        " u'_version': 3,\n",
        " u'found': True}"
       ]
      }
     ],
     "prompt_number": 29
    },
    {
     "cell_type": "code",
     "collapsed": false,
     "input": [
      "es.search(index=\"pizzas\", body={\"filter\": {\"and\": [{\"term\": {\"toppings\":\"pepperoni\"}}, {\"term\": {\"crust\":\"thin\"}}]}})"
     ],
     "language": "python",
     "metadata": {},
     "outputs": [
      {
       "metadata": {},
       "output_type": "pyout",
       "prompt_number": 42,
       "text": [
        "{u'_shards': {u'failed': 0, u'successful': 5, u'total': 5},\n",
        " u'hits': {u'hits': [{u'_id': u'uPeN-jwdQN2lETaWQWiZwQ',\n",
        "    u'_index': u'pizzas',\n",
        "    u'_score': 1.0,\n",
        "    u'_source': {u'crust': u'thin',\n",
        "     u'sauce': u'red',\n",
        "     u'toppings': [u'cheese', u'pepperoni']},\n",
        "    u'_type': u'pizza'},\n",
        "   {u'_id': u'xmkI7QJCRSO7IdPrR7Pxag',\n",
        "    u'_index': u'pizzas',\n",
        "    u'_score': 1.0,\n",
        "    u'_source': {u'crust': u'thin',\n",
        "     u'sauce': u'red',\n",
        "     u'toppings': [u'cheese', u'pepperoni', u'mushroom']},\n",
        "    u'_type': u'pizza'}],\n",
        "  u'max_score': 1.0,\n",
        "  u'total': 2},\n",
        " u'timed_out': False,\n",
        " u'took': 2}"
       ]
      }
     ],
     "prompt_number": 42
    },
    {
     "cell_type": "code",
     "collapsed": false,
     "input": [
      "es.delete?"
     ],
     "language": "python",
     "metadata": {},
     "outputs": [],
     "prompt_number": 35
    },
    {
     "cell_type": "code",
     "collapsed": false,
     "input": [
      "res = es.search(index=\"pizzas\", body={\"filter\": {\"type\": {\"value\": \"order\"}}})"
     ],
     "language": "python",
     "metadata": {},
     "outputs": [],
     "prompt_number": 58
    },
    {
     "cell_type": "code",
     "collapsed": false,
     "input": [
      "res['hits']['hits'][0]['_source']"
     ],
     "language": "python",
     "metadata": {},
     "outputs": [
      {
       "metadata": {},
       "output_type": "pyout",
       "prompt_number": 57,
       "text": [
        "{u'crust': u'thin', u'sauce': u'red', u'toppings': [u'cheese', u'pepperoni']}"
       ]
      }
     ],
     "prompt_number": 57
    },
    {
     "cell_type": "code",
     "collapsed": false,
     "input": [
      "orders = es.search(index=\"pizzas\", body={\"filter\": {\"type\": {\"value\": \"order\"}}})"
     ],
     "language": "python",
     "metadata": {},
     "outputs": [],
     "prompt_number": 59
    },
    {
     "cell_type": "code",
     "collapsed": false,
     "input": [
      "orders['hits']['hits']"
     ],
     "language": "python",
     "metadata": {},
     "outputs": [
      {
       "metadata": {},
       "output_type": "pyout",
       "prompt_number": 61,
       "text": [
        "[{u'_id': u'JRwHerRvQgi1P9Jt8O9l-Q',\n",
        "  u'_index': u'pizzas',\n",
        "  u'_score': 1.0,\n",
        "  u'_source': {u'customer': u'Rb95KRZBS7SBVbsyhOSvAw',\n",
        "   u'pizzas': u'ZU0PJjkRS-ajB4PAhLJC4Q'},\n",
        "  u'_type': u'order'},\n",
        " {u'_id': u'xeNqAeVvSi66v8TKuvdvPw',\n",
        "  u'_index': u'pizzas',\n",
        "  u'_score': 1.0,\n",
        "  u'_source': {u'customer': u'vQMrdgO4TyqiikTKVktgfQ',\n",
        "   u'pizzas': [u'uPeN-jwdQN2lETaWQWiZwQ', u'LvYnn36oTnu_o_3bfRAFmA']},\n",
        "  u'_type': u'order'},\n",
        " {u'_id': u'yzbXkohJTwy8MHIKYZnpMg',\n",
        "  u'_index': u'pizzas',\n",
        "  u'_score': 1.0,\n",
        "  u'_source': {u'customer': u'Rb95KRZBS7SBVbsyhOSvAw',\n",
        "   u'pizzas': u'xmkI7QJCRSO7IdPrR7Pxag'},\n",
        "  u'_type': u'order'},\n",
        " {u'_id': u'7NFoBpDCTVGLtSDp8ulT3A',\n",
        "  u'_index': u'pizzas',\n",
        "  u'_score': 1.0,\n",
        "  u'_source': {u'customer': u'vQMrdgO4TyqiikTKVktgfQ',\n",
        "   u'pizzas': u'rFfX0pF-Q-aG3WF5IZdbgA'},\n",
        "  u'_type': u'order'}]"
       ]
      }
     ],
     "prompt_number": 61
    },
    {
     "cell_type": "code",
     "collapsed": false,
     "input": [
      "from giovannis import get_orders"
     ],
     "language": "python",
     "metadata": {},
     "outputs": [],
     "prompt_number": 1
    },
    {
     "cell_type": "code",
     "collapsed": false,
     "input": [
      "orders = get_orders()"
     ],
     "language": "python",
     "metadata": {},
     "outputs": [],
     "prompt_number": 2
    },
    {
     "cell_type": "code",
     "collapsed": false,
     "input": [
      "orders"
     ],
     "language": "python",
     "metadata": {},
     "outputs": [
      {
       "metadata": {},
       "output_type": "pyout",
       "prompt_number": 3,
       "text": [
        "[<models.pizza_capnp:Order builder (complete = false, delivery = false, pizzas = [(toppings = [cheese])], customer = (name = \"Sally Sanders\", email = \"nobody@nowhere.com\", phone = \"123-456-7890\"))>,\n",
        " <models.pizza_capnp:Order builder (complete = false, delivery = false, pizzas = [(toppings = [cheese, pepperoni]), (toppings = [cheese, pepperoni, sausage])], customer = (name = \"Bob Smith\", email = \"nobody@nowhere.com\", phone = \"123-456-7890\"))>,\n",
        " <models.pizza_capnp:Order builder (complete = false, delivery = false, pizzas = [(toppings = [cheese, pepperoni, cheese])], customer = (name = \"Sally Sanders\", email = \"nobody@nowhere.com\", phone = \"123-456-7890\"))>,\n",
        " <models.pizza_capnp:Order builder (complete = false, delivery = false, pizzas = [(toppings = [cheese, sausage])], customer = (name = \"Bob Smith\", email = \"nobody@nowhere.com\", phone = \"123-456-7890\"))>]"
       ]
      }
     ],
     "prompt_number": 3
    },
    {
     "cell_type": "code",
     "collapsed": false,
     "input": [
      "o = orders[0]"
     ],
     "language": "python",
     "metadata": {},
     "outputs": [],
     "prompt_number": 5
    },
    {
     "cell_type": "code",
     "collapsed": false,
     "input": [
      "o.to_dict()"
     ],
     "language": "python",
     "metadata": {},
     "outputs": [
      {
       "metadata": {},
       "output_type": "pyout",
       "prompt_number": 6,
       "text": [
        "{'complete': False,\n",
        " 'customer': {'email': 'nobody@nowhere.com',\n",
        "  'name': 'Sally Sanders',\n",
        "  'phone': '123-456-7890'},\n",
        " 'delivery': False,\n",
        " 'pizzas': [{'toppings': ['cheese']}]}"
       ]
      }
     ],
     "prompt_number": 6
    },
    {
     "cell_type": "code",
     "collapsed": false,
     "input": [],
     "language": "python",
     "metadata": {},
     "outputs": []
    }
   ],
   "metadata": {}
  }
 ]
}